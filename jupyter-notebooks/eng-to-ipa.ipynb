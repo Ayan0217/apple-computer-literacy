{
 "cells": [
  {
   "cell_type": "code",
   "execution_count": 2,
   "id": "2c563ff0-2e2b-4441-9561-c3fae6bc1198",
   "metadata": {},
   "outputs": [
    {
     "name": "stdout",
     "output_type": "stream",
     "text": [
      "Collecting eng-to-ipa\n",
      "  Downloading eng_to_ipa-0.0.2.tar.gz (2.8 MB)\n",
      "\u001b[2K     \u001b[90m━━━━━━━━━━━━━━━━━━━━━━━━━━━━━━━━━━━━━━━━\u001b[0m \u001b[32m2.8/2.8 MB\u001b[0m \u001b[31m5.3 MB/s\u001b[0m eta \u001b[36m0:00:00\u001b[0m00:01\u001b[0m00:01\u001b[0m0m\n",
      "\u001b[?25h  Preparing metadata (setup.py) ... \u001b[?25ldone\n",
      "\u001b[?25hBuilding wheels for collected packages: eng-to-ipa\n",
      "  Building wheel for eng-to-ipa (setup.py) ... \u001b[?25ldone\n",
      "\u001b[?25h  Created wheel for eng-to-ipa: filename=eng_to_ipa-0.0.2-py3-none-any.whl size=2822640 sha256=79b89a5304e2eb5f1b18760ed2a222402f93e6f8427ef628e7c444f11c528eaf\n",
      "  Stored in directory: /home/xiaolai/.cache/pip/wheels/5b/ab/07/fe6722f710d8ef8bd0ccb4eb689ef96f5552f3fc0c80c1aa9c\n",
      "Successfully built eng-to-ipa\n",
      "Installing collected packages: eng-to-ipa\n",
      "Successfully installed eng-to-ipa-0.0.2\n"
     ]
    }
   ],
   "source": [
    "!pip install eng-to-ipa"
   ]
  },
  {
   "cell_type": "code",
   "execution_count": 4,
   "id": "2f271674-c027-43bc-9363-b5fe65b551ab",
   "metadata": {},
   "outputs": [
    {
     "data": {
      "text/plain": [
       "'ˈwərkər'"
      ]
     },
     "execution_count": 4,
     "metadata": {},
     "output_type": "execute_result"
    }
   ],
   "source": [
    "import eng_to_ipa as ipa\n",
    "text = \"\"\"\n",
    "worker\n",
    "\"\"\"\n",
    "ipa.convert(text)"
   ]
  },
  {
   "cell_type": "code",
   "execution_count": 6,
   "id": "955be4fe-1e7f-4c81-98cc-2805f35f93f6",
   "metadata": {},
   "outputs": [
    {
     "name": "stdout",
     "output_type": "stream",
     "text": [
      "Phonems that are not included in this text:\n",
      "['ɔr', 'aʊ', 'ɔɪ', 'ʤ', 'ŋ', 'j', 'ʒ']...\n"
     ]
    },
    {
     "data": {
      "text/plain": [
       "False"
      ]
     },
     "execution_count": 6,
     "metadata": {},
     "output_type": "execute_result"
    }
   ],
   "source": [
    "import eng_to_ipa as ipa\n",
    "\n",
    "def phonemes_complete(text):\n",
    "    phonemes = ipa.convert(text)\n",
    "    \n",
    "    # CMU Pronuncing Dictionary uses 39 phonemes, \n",
    "    # http://www.speech.cs.cmu.edu/cgi-bin/cmudict\n",
    "    # \n",
    "    # /ʌ/ is transformed into /ə/ in this module, and /ə:/ to /ər/, /ɔ:/ to /ɔr/\n",
    "    # ... so there are still 39 phonemes in this module.\n",
    "    ipa_vowels = \"ɛ,æ,ə,ɑr,ər,ɪ,i,ɔ,ɔr,ʊ,u,aɪ,eɪ,aʊ,oʊ,ɔɪ\"\n",
    "    ipa_consonants = \"b,ʧ,d,ð,f,g,h,ʤ,k,l,m,n,ŋ,p,s,ʃ,t,θ,v,w,j,z,ʒ\"\n",
    "    ipa_all = ipa_vowels.split(\",\") + ipa_consonants.split(\",\") # convert them into a list\n",
    "    \n",
    "    complete = True\n",
    "    missing_phonemes = []\n",
    "    for i in ipa_all:\n",
    "        if i not in phonemes:\n",
    "            complete = False\n",
    "            missing_phonemes.append(i)\n",
    "    if complete:\n",
    "        print(\"The text includes all 38 phonemes...\")\n",
    "    else:\n",
    "        print(f\"Phonems that are not included in this text:\\n{missing_phonemes}...\")\n",
    "\n",
    "    return complete\n",
    "\n",
    "\n",
    "text = \"\"\"\n",
    "Various kinds of ideas can be classified by their relationship to the authentication process. There are ideas systematically prepared for authentication (“theories”), ideas not derived from any systematic process (“visions”), ideas which could not survive any reasonable authentication process (“illusions”), ideas which exempt themselves from any authentication process (“myths”), ideas which have already passed authentication processes (“facts”), as well as ideas known to have failed—or certain to fail—such processes (“false-hoods”—both mistakes and lies).\n",
    "\"\"\"\n",
    "\n",
    "phonemes_complete(text)"
   ]
  },
  {
   "cell_type": "code",
   "execution_count": 16,
   "id": "eaee99dd-b731-4f90-a7ee-5c77737fbfa1",
   "metadata": {},
   "outputs": [
    {
     "data": {
      "text/plain": [
       "'nɛd'"
      ]
     },
     "execution_count": 16,
     "metadata": {},
     "output_type": "execute_result"
    }
   ],
   "source": [
    "ipa.convert(\"ned\")"
   ]
  },
  {
   "cell_type": "code",
   "execution_count": 19,
   "id": "3994cc43-993d-462b-934d-61184f0221ed",
   "metadata": {},
   "outputs": [
    {
     "data": {
      "text/plain": [
       "'bed'"
      ]
     },
     "execution_count": 19,
     "metadata": {},
     "output_type": "execute_result"
    }
   ],
   "source": [
    "def cipa(text):\n",
    "    replacement = {\n",
    "        \"ɛ\": \"e\",\n",
    "        \"ɑr\": \"ɑː\",\n",
    "        \"ər\": \"əː\",\n",
    "        \"ə\": \"ʌ\"\n",
    "        \"ɔr\": \"ɔː\",\n",
    "        \"ʊ\": \"uː\",\n",
    "        \"aɪ\": \"ai\",\n",
    "        \"eɪ\": \"ei\",\n",
    "        \"aʊ\": \"au\",\n",
    "        \"oʊ\": \"ou\",\n",
    "        \"ɔɪ\": \"oi\",\n",
    "        \"ɪ\": \"iː\"\n",
    "    }\n",
    "    return ipa.convert(text).replace(\"ɛ\", \"e\").replace(\"ɑr\", \"ɑː\").replace(\"ər\", \"əː\").replace(\"ɔr\", \"ɔː\").replace(\"ʊ\", \"uː\").replace(\"ɪ\", \"iː\")\n",
    "cipa(\"bed\")"
   ]
  },
  {
   "cell_type": "code",
   "execution_count": null,
   "id": "18c5ee2d-b9eb-4e1f-9644-43dd3c3e4af4",
   "metadata": {},
   "outputs": [],
   "source": []
  }
 ],
 "metadata": {
  "kernelspec": {
   "display_name": "Python 3 (ipykernel)",
   "language": "python",
   "name": "python3"
  },
  "language_info": {
   "codemirror_mode": {
    "name": "ipython",
    "version": 3
   },
   "file_extension": ".py",
   "mimetype": "text/x-python",
   "name": "python",
   "nbconvert_exporter": "python",
   "pygments_lexer": "ipython3",
   "version": "3.10.12"
  }
 },
 "nbformat": 4,
 "nbformat_minor": 5
}
