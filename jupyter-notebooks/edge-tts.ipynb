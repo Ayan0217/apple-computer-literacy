{
 "cells": [
  {
   "cell_type": "markdown",
   "id": "b94f103d-ac43-4d13-83cb-eb5090220881",
   "metadata": {},
   "source": [
    "# EdgeTTS\n",
    "\n",
    "https://github.com/rany2/edge-tts\n",
    "\n",
    "edge-tts is a Python module that allows you to use Microsoft Edge's online text-to-speech service from within your Python code or using the provided edge-tts or edge-playback command."
   ]
  },
  {
   "cell_type": "code",
   "execution_count": 1,
   "id": "77deb08f-fec3-4327-b2f9-1c893aacaddc",
   "metadata": {},
   "outputs": [
    {
     "name": "stdout",
     "output_type": "stream",
     "text": [
      "Requirement already satisfied: edge-tts in /opt/homebrew/Caskroom/miniconda/base/lib/python3.11/site-packages (6.1.7)\n",
      "Requirement already satisfied: aiohttp>=3.8.0 in /opt/homebrew/Caskroom/miniconda/base/lib/python3.11/site-packages (from edge-tts) (3.8.4)\n",
      "Requirement already satisfied: attrs>=17.3.0 in /opt/homebrew/Caskroom/miniconda/base/lib/python3.11/site-packages (from aiohttp>=3.8.0->edge-tts) (23.1.0)\n",
      "Requirement already satisfied: charset-normalizer<4.0,>=2.0 in /opt/homebrew/Caskroom/miniconda/base/lib/python3.11/site-packages (from aiohttp>=3.8.0->edge-tts) (2.0.4)\n",
      "Requirement already satisfied: multidict<7.0,>=4.5 in /opt/homebrew/Caskroom/miniconda/base/lib/python3.11/site-packages (from aiohttp>=3.8.0->edge-tts) (6.0.4)\n",
      "Requirement already satisfied: async-timeout<5.0,>=4.0.0a3 in /opt/homebrew/Caskroom/miniconda/base/lib/python3.11/site-packages (from aiohttp>=3.8.0->edge-tts) (4.0.2)\n",
      "Requirement already satisfied: yarl<2.0,>=1.0 in /opt/homebrew/Caskroom/miniconda/base/lib/python3.11/site-packages (from aiohttp>=3.8.0->edge-tts) (1.9.2)\n",
      "Requirement already satisfied: frozenlist>=1.1.1 in /opt/homebrew/Caskroom/miniconda/base/lib/python3.11/site-packages (from aiohttp>=3.8.0->edge-tts) (1.4.0)\n",
      "Requirement already satisfied: aiosignal>=1.1.2 in /opt/homebrew/Caskroom/miniconda/base/lib/python3.11/site-packages (from aiohttp>=3.8.0->edge-tts) (1.3.1)\n",
      "Requirement already satisfied: idna>=2.0 in /opt/homebrew/Caskroom/miniconda/base/lib/python3.11/site-packages (from yarl<2.0,>=1.0->aiohttp>=3.8.0->edge-tts) (3.4)\n",
      "Requirement already satisfied: pygame in /opt/homebrew/Caskroom/miniconda/base/lib/python3.11/site-packages (2.5.0)\n"
     ]
    }
   ],
   "source": [
    "!pip install edge-tts\n",
    "!pip install pygame"
   ]
  },
  {
   "cell_type": "code",
   "execution_count": null,
   "id": "d63a7695-61f7-4b18-ac4b-bf41e7ff39ee",
   "metadata": {
    "scrolled": true
   },
   "outputs": [],
   "source": [
    "!edge-tts --list-voices > voices.txt"
   ]
  },
  {
   "cell_type": "markdown",
   "id": "2e1a41fd-b90b-4910-99e1-965c55334f5e",
   "metadata": {},
   "source": [
    "# EN-US and ZH-CN voice list\n",
    "\n",
    "Name: en-US-AnaNeural\n",
    "Gender: Female\n",
    "\n",
    "Name: en-US-AriaNeural\n",
    "Gender: Female\n",
    "\n",
    "Name: en-US-ChristopherNeural\n",
    "Gender: Male\n",
    "\n",
    "Name: en-US-EricNeural\n",
    "Gender: Male\n",
    "\n",
    "Name: en-US-GuyNeural\n",
    "Gender: Male\n",
    "\n",
    "Name: en-US-JennyNeural\n",
    "Gender: Female\n",
    "\n",
    "Name: en-US-MichelleNeural\n",
    "Gender: Female\n",
    "\n",
    "Name: en-US-RogerNeural\n",
    "Gender: Male\n",
    "\n",
    "Name: en-US-SteffanNeural\n",
    "Gender: Male\n",
    "\n",
    "Name: zh-CN-XiaoxiaoNeural\n",
    "Gender: Female\n",
    "\n",
    "Name: zh-CN-XiaoyiNeural\n",
    "Gender: Female\n",
    "\n",
    "Name: zh-CN-YunjianNeural\n",
    "Gender: Male\n",
    "\n",
    "Name: zh-CN-YunxiNeural\n",
    "Gender: Male\n",
    "\n",
    "Name: zh-CN-YunxiaNeural\n",
    "Gender: Male\n",
    "\n",
    "Name: zh-CN-YunyangNeural\n",
    "Gender: Male\n",
    "\n",
    "Name: zh-CN-liaoning-XiaobeiNeural\n",
    "Gender: Female\n",
    "\n",
    "Name: zh-CN-shaanxi-XiaoniNeural\n",
    "Gender: Female"
   ]
  },
  {
   "cell_type": "code",
   "execution_count": 2,
   "id": "9aad6634-e833-4ec4-b285-84e051329712",
   "metadata": {},
   "outputs": [
    {
     "name": "stdout",
     "output_type": "stream",
     "text": [
      "Files created!\n"
     ]
    }
   ],
   "source": [
    "import asyncio\n",
    "import edge_tts\n",
    "import pygame\n",
    "\n",
    "TEXT = \"\"\"\n",
    "课堂里，老师在讲课，大声朗读的事： Once upon a time, the King's youngest son became filled with the desire to go abroad, and see the world.\n",
    "\"\"\"\n",
    "# VOICE = \"en-US-GuyNeural\"\n",
    "VOICE = \"zh-CN-YunjianNeural\"\n",
    "# VOICE = \"ja-JP-KeitaNeural\"\n",
    "# VOICE = \"ko-KR-InJoonNeural\"\n",
    "# VOICE = \"kn-IN-GaganNeural\"\n",
    "# VOICE = \"zh-HK-WanLungNeural\"\n",
    "# VOICE = \"zh-TW-YunJheNeural\"\n",
    "# VOICE = \"zh-TW-HsiaoChenNeural\"\n",
    "# VOICE = \"zh-CN-liaoning-XiaobeiNeural\"\n",
    "OUTPUT_FILE_NAME = f\"{VOICE}_{TEXT[:15]}.mp3\"\n",
    "\n",
    "OUTPUT_FILE = f\"{OUTPUT_FILE_NAME}.mp3\"\n",
    "WEBVTT_FILE = f\"{OUTPUT_FILE_NAME}.vtt\"\n",
    "\n",
    "communicate = edge_tts.Communicate(TEXT, VOICE)\n",
    "await communicate.save(OUTPUT_FILE)\n",
    "\n",
    "submaker = edge_tts.SubMaker()\n",
    "with open(OUTPUT_FILE, \"wb\") as file:\n",
    "    async for chunk in communicate.stream():\n",
    "        if chunk[\"type\"] == \"audio\":\n",
    "            file.write(chunk[\"data\"])\n",
    "        elif chunk[\"type\"] == \"WordBoundary\":\n",
    "            submaker.create_sub((chunk[\"offset\"], chunk[\"duration\"]), chunk[\"text\"])\n",
    "\n",
    "with open(WEBVTT_FILE, \"w\", encoding=\"utf-8\") as file:\n",
    "    file.write(submaker.generate_subs())\n",
    "\n",
    "print(\"Files created!\") "
   ]
  },
  {
   "cell_type": "code",
   "execution_count": 3,
   "id": "862f0948",
   "metadata": {},
   "outputs": [],
   "source": [
    "pygame.mixer.init()\n",
    "pygame.mixer.music.load(OUTPUT_FILE)\n",
    "pygame.mixer.music.play()"
   ]
  },
  {
   "cell_type": "code",
   "execution_count": null,
   "id": "6a73c84c-e221-4f2e-982a-0312929ffba4",
   "metadata": {},
   "outputs": [],
   "source": [
    "!pip install amfm_decompy"
   ]
  },
  {
   "cell_type": "code",
   "execution_count": null,
   "id": "bc271b37-fdf4-4888-bf46-31086b2299f3",
   "metadata": {},
   "outputs": [],
   "source": [
    "import amfm_decompy.basic_tools as basic\n",
    "import amfm_decompy.pYAAPT as pYAAPT\n",
    "import matplotlib.pyplot as plt\n",
    "import numpy as np\n",
    "\n",
    "#load audio 注意必须是wav\n",
    "signal = basic.SignalObj(\"/Users/joker/Desktop/Speaking Training/The Case Against Education/Clips/Chapter 01 (Selection) 01.wav\")\n",
    "\n",
    "#pYAAPT pitches 生成pitches文件\n",
    "pitch = pYAAPT.yaapt(signal, frame_length = 40, tda_frame_length=40,f0_min=75, f0_max=600)\n",
    "\n",
    "#plot \n",
    "plt.plot(pitch.samp_values)\n",
    "plt.show()"
   ]
  },
  {
   "cell_type": "code",
   "execution_count": null,
   "id": "f6a4cae2-78c1-4211-ac7b-e4339c95d945",
   "metadata": {},
   "outputs": [],
   "source": []
  }
 ],
 "metadata": {
  "kernelspec": {
   "display_name": "Python 3 (ipykernel)",
   "language": "python",
   "name": "python3"
  },
  "language_info": {
   "codemirror_mode": {
    "name": "ipython",
    "version": 3
   },
   "file_extension": ".py",
   "mimetype": "text/x-python",
   "name": "python",
   "nbconvert_exporter": "python",
   "pygments_lexer": "ipython3",
   "version": "3.11.4"
  }
 },
 "nbformat": 4,
 "nbformat_minor": 5
}
